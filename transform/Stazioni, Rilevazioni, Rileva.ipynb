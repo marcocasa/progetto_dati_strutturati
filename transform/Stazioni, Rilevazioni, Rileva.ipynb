{
 "cells": [
  {
   "cell_type": "code",
   "execution_count": 23,
   "id": "0290fd3f",
   "metadata": {},
   "outputs": [],
   "source": [
    "import pandas as pd\n",
    "import geopandas as gpd"
   ]
  },
  {
   "cell_type": "code",
   "execution_count": 24,
   "id": "40fe9e3b",
   "metadata": {},
   "outputs": [],
   "source": [
    "path_rilevazioni_pm2_5 = f'../dataset/rilevazioni/rilevazioni_PM2_5.csv'\n",
    "path_rilevazioni_pm10 = f'../dataset/rilevazioni/rilevazioni_PM10.csv'\n",
    "path_comuni = f'../dataset/dati_spaziali/comuni/comuni.shp'"
   ]
  },
  {
   "cell_type": "code",
   "execution_count": 25,
   "id": "c846de8a",
   "metadata": {},
   "outputs": [],
   "source": [
    "stazioni = pd.DataFrame(columns= ['nome', 'lat', 'long', 'id_comune'])\n",
    "rileva = pd.DataFrame(columns= ['nome_stazione', 'sigla_indicatore'])\n",
    "rilevazioni = pd.DataFrame(columns= ['data_rilevazione', 'valore', 'sigla_indicatore', 'nome_stazione'])\n",
    "comuni = gpd.read_file(path_comuni)"
   ]
  },
  {
   "cell_type": "code",
   "execution_count": 26,
   "id": "bf1b9a40",
   "metadata": {},
   "outputs": [],
   "source": [
    "rilevazioni_pm2_5 = pd.read_csv(path_rilevazioni_pm2_5, \n",
    "                                sep=';', \n",
    "                                skiprows=[0, 1, 2, 3 , 4, 5, 6, 8],\n",
    "                                skipfooter=1,\n",
    "                                engine='python', \n",
    "                                index_col=False)\n",
    "rilevazioni_pm10 = pd.read_csv(path_rilevazioni_pm10,\n",
    "                                sep=';', \n",
    "                                skiprows=[0, 1, 2, 3, 4, 5, 7],\n",
    "                                skipfooter=1,\n",
    "                                engine='python', \n",
    "                                index_col=False)"
   ]
  },
  {
   "cell_type": "code",
   "execution_count": 27,
   "id": "607f14ad",
   "metadata": {},
   "outputs": [
    {
     "data": {
      "text/html": [
       "<div>\n",
       "<style scoped>\n",
       "    .dataframe tbody tr th:only-of-type {\n",
       "        vertical-align: middle;\n",
       "    }\n",
       "\n",
       "    .dataframe tbody tr th {\n",
       "        vertical-align: top;\n",
       "    }\n",
       "\n",
       "    .dataframe thead th {\n",
       "        text-align: right;\n",
       "    }\n",
       "</style>\n",
       "<table border=\"1\" class=\"dataframe\">\n",
       "  <thead>\n",
       "    <tr style=\"text-align: right;\">\n",
       "      <th></th>\n",
       "      <th>NomeCentralina</th>\n",
       "      <th>DataRilevazione</th>\n",
       "      <th>Provincia</th>\n",
       "      <th>Comune</th>\n",
       "      <th>Sigla</th>\n",
       "      <th>Valore</th>\n",
       "      <th>Superamenti PM10*</th>\n",
       "    </tr>\n",
       "  </thead>\n",
       "  <tbody>\n",
       "    <tr>\n",
       "      <th>0</th>\n",
       "      <td>Altamura - Via Santeramo</td>\n",
       "      <td>2019-01-01 00:00:00.0</td>\n",
       "      <td>Bari</td>\n",
       "      <td>Altamura</td>\n",
       "      <td>PM2.5</td>\n",
       "      <td>7</td>\n",
       "      <td>NaN</td>\n",
       "    </tr>\n",
       "    <tr>\n",
       "      <th>1</th>\n",
       "      <td>Altamura - Via Santeramo</td>\n",
       "      <td>2019-01-02 00:00:00.0</td>\n",
       "      <td>Bari</td>\n",
       "      <td>Altamura</td>\n",
       "      <td>PM2.5</td>\n",
       "      <td>8</td>\n",
       "      <td>NaN</td>\n",
       "    </tr>\n",
       "    <tr>\n",
       "      <th>2</th>\n",
       "      <td>Altamura - Via Santeramo</td>\n",
       "      <td>2019-01-03 00:00:00.0</td>\n",
       "      <td>Bari</td>\n",
       "      <td>Altamura</td>\n",
       "      <td>PM2.5</td>\n",
       "      <td>4</td>\n",
       "      <td>NaN</td>\n",
       "    </tr>\n",
       "    <tr>\n",
       "      <th>3</th>\n",
       "      <td>Altamura - Via Santeramo</td>\n",
       "      <td>2019-01-04 00:00:00.0</td>\n",
       "      <td>Bari</td>\n",
       "      <td>Altamura</td>\n",
       "      <td>PM2.5</td>\n",
       "      <td>6</td>\n",
       "      <td>NaN</td>\n",
       "    </tr>\n",
       "    <tr>\n",
       "      <th>4</th>\n",
       "      <td>Altamura - Via Santeramo</td>\n",
       "      <td>2019-01-05 00:00:00.0</td>\n",
       "      <td>Bari</td>\n",
       "      <td>Altamura</td>\n",
       "      <td>PM2.5</td>\n",
       "      <td>8</td>\n",
       "      <td>NaN</td>\n",
       "    </tr>\n",
       "  </tbody>\n",
       "</table>\n",
       "</div>"
      ],
      "text/plain": [
       "            NomeCentralina        DataRilevazione  Provincia    Comune   \\\n",
       "0  Altamura - Via Santeramo  2019-01-01 00:00:00.0       Bari  Altamura   \n",
       "1  Altamura - Via Santeramo  2019-01-02 00:00:00.0       Bari  Altamura   \n",
       "2  Altamura - Via Santeramo  2019-01-03 00:00:00.0       Bari  Altamura   \n",
       "3  Altamura - Via Santeramo  2019-01-04 00:00:00.0       Bari  Altamura   \n",
       "4  Altamura - Via Santeramo  2019-01-05 00:00:00.0       Bari  Altamura   \n",
       "\n",
       "  Sigla  Valore  Superamenti PM10*   \n",
       "0  PM2.5       7                NaN  \n",
       "1  PM2.5       8                NaN  \n",
       "2  PM2.5       4                NaN  \n",
       "3  PM2.5       6                NaN  \n",
       "4  PM2.5       8                NaN  "
      ]
     },
     "execution_count": 27,
     "metadata": {},
     "output_type": "execute_result"
    }
   ],
   "source": [
    "rilevazioni_pm2_5.head()"
   ]
  },
  {
   "cell_type": "code",
   "execution_count": 28,
   "id": "fdbd0e11",
   "metadata": {},
   "outputs": [
    {
     "data": {
      "text/html": [
       "<div>\n",
       "<style scoped>\n",
       "    .dataframe tbody tr th:only-of-type {\n",
       "        vertical-align: middle;\n",
       "    }\n",
       "\n",
       "    .dataframe tbody tr th {\n",
       "        vertical-align: top;\n",
       "    }\n",
       "\n",
       "    .dataframe thead th {\n",
       "        text-align: right;\n",
       "    }\n",
       "</style>\n",
       "<table border=\"1\" class=\"dataframe\">\n",
       "  <thead>\n",
       "    <tr style=\"text-align: right;\">\n",
       "      <th></th>\n",
       "      <th>NomeCentralina</th>\n",
       "      <th>DataRilevazione</th>\n",
       "      <th>Provincia</th>\n",
       "      <th>Comune</th>\n",
       "      <th>Sigla</th>\n",
       "      <th>Valore</th>\n",
       "      <th>Superamenti PM10*</th>\n",
       "    </tr>\n",
       "  </thead>\n",
       "  <tbody>\n",
       "    <tr>\n",
       "      <th>0</th>\n",
       "      <td>Altamura - Via Santeramo</td>\n",
       "      <td>2019-01-01 00:00:00.0</td>\n",
       "      <td>Bari</td>\n",
       "      <td>Altamura</td>\n",
       "      <td>PM10</td>\n",
       "      <td>11</td>\n",
       "      <td>7</td>\n",
       "    </tr>\n",
       "    <tr>\n",
       "      <th>1</th>\n",
       "      <td>Altamura - Via Santeramo</td>\n",
       "      <td>2019-01-02 00:00:00.0</td>\n",
       "      <td>Bari</td>\n",
       "      <td>Altamura</td>\n",
       "      <td>PM10</td>\n",
       "      <td>11</td>\n",
       "      <td>7</td>\n",
       "    </tr>\n",
       "    <tr>\n",
       "      <th>2</th>\n",
       "      <td>Altamura - Via Santeramo</td>\n",
       "      <td>2019-01-03 00:00:00.0</td>\n",
       "      <td>Bari</td>\n",
       "      <td>Altamura</td>\n",
       "      <td>PM10</td>\n",
       "      <td>6</td>\n",
       "      <td>7</td>\n",
       "    </tr>\n",
       "    <tr>\n",
       "      <th>3</th>\n",
       "      <td>Altamura - Via Santeramo</td>\n",
       "      <td>2019-01-04 00:00:00.0</td>\n",
       "      <td>Bari</td>\n",
       "      <td>Altamura</td>\n",
       "      <td>PM10</td>\n",
       "      <td>8</td>\n",
       "      <td>7</td>\n",
       "    </tr>\n",
       "    <tr>\n",
       "      <th>4</th>\n",
       "      <td>Altamura - Via Santeramo</td>\n",
       "      <td>2019-01-05 00:00:00.0</td>\n",
       "      <td>Bari</td>\n",
       "      <td>Altamura</td>\n",
       "      <td>PM10</td>\n",
       "      <td>9</td>\n",
       "      <td>7</td>\n",
       "    </tr>\n",
       "  </tbody>\n",
       "</table>\n",
       "</div>"
      ],
      "text/plain": [
       "            NomeCentralina        DataRilevazione  Provincia    Comune   \\\n",
       "0  Altamura - Via Santeramo  2019-01-01 00:00:00.0       Bari  Altamura   \n",
       "1  Altamura - Via Santeramo  2019-01-02 00:00:00.0       Bari  Altamura   \n",
       "2  Altamura - Via Santeramo  2019-01-03 00:00:00.0       Bari  Altamura   \n",
       "3  Altamura - Via Santeramo  2019-01-04 00:00:00.0       Bari  Altamura   \n",
       "4  Altamura - Via Santeramo  2019-01-05 00:00:00.0       Bari  Altamura   \n",
       "\n",
       "  Sigla  Valore  Superamenti PM10*   \n",
       "0   PM10      11                  7  \n",
       "1   PM10      11                  7  \n",
       "2   PM10       6                  7  \n",
       "3   PM10       8                  7  \n",
       "4   PM10       9                  7  "
      ]
     },
     "execution_count": 28,
     "metadata": {},
     "output_type": "execute_result"
    }
   ],
   "source": [
    "rilevazioni_pm10.head()"
   ]
  },
  {
   "cell_type": "code",
   "execution_count": 7,
   "id": "f4a067c2",
   "metadata": {},
   "outputs": [],
   "source": [
    "columns = ['Nome', 'Data', 'Comune', 'Sigla', 'Valore']\n",
    "rilevazioni_pm2_5 = rilevazioni_pm2_5[['NomeCentralina ', 'DataRilevazione ', 'Comune ', 'Sigla ', 'Valore ']]\n",
    "rilevazioni_pm2_5.columns = columns\n",
    "\n",
    "rilevazioni_pm10 = rilevazioni_pm10[['NomeCentralina ', 'DataRilevazione ', 'Comune ', 'Sigla ', 'Valore ']]\n",
    "rilevazioni_pm10.columns = columns"
   ]
  },
  {
   "cell_type": "markdown",
   "id": "7722a018",
   "metadata": {},
   "source": [
    "Nei file csv delle rilevazioni, al cambio della centralina viene ripetuto l'header, l'inquinante e la provincia. Vengono quindi rimosse queste righe"
   ]
  },
  {
   "cell_type": "code",
   "execution_count": 8,
   "id": "220d4557",
   "metadata": {},
   "outputs": [],
   "source": [
    "rilevazioni_pm2_5 = rilevazioni_pm2_5[rilevazioni_pm2_5[\"Nome\"].str.contains('Provincia:|NomeCentralina|Inquinante:') == False]\n",
    "rilevazioni_pm2_5.reset_index(inplace=True, drop=True)\n",
    "rilevazioni_pm10 = rilevazioni_pm10[rilevazioni_pm10[\"Nome\"].str.contains('Provincia:|NomeCentralina|Inquinante:') == False]\n",
    "rilevazioni_pm10.reset_index(inplace=True, drop=True)\n",
    "\n",
    "rilevazioni_pm2_5[\"Nome\"] = rilevazioni_pm2_5[\"Nome\"].apply(lambda x: x.split(\"-\")[1].strip().replace(\"  \", \" \"))\n",
    "rilevazioni_pm10[\"Nome\"] = rilevazioni_pm10[\"Nome\"].apply(lambda x: x.split(\"-\")[1].strip().replace(\"  \", \" \"))"
   ]
  },
  {
   "cell_type": "markdown",
   "id": "99b535bf",
   "metadata": {},
   "source": [
    "Estrazione della latitudine e longitudine delle stazioni"
   ]
  },
  {
   "cell_type": "code",
   "execution_count": 9,
   "id": "2f6bede3",
   "metadata": {},
   "outputs": [],
   "source": [
    "import requests\n",
    "import json"
   ]
  },
  {
   "cell_type": "code",
   "execution_count": 10,
   "id": "c4689775",
   "metadata": {},
   "outputs": [],
   "source": [
    "def get_lat_long(stazione, comune):\n",
    "    s = stazione.replace(' ', '+')\n",
    "    c = comune.replace(' ', '+')\n",
    "    request = requests.get(f'https://nominatim.openstreetmap.org/search?country=Italia&city={comune}&street={stazione}&format=jsonv2&limit=1')\n",
    "    json_object = json.loads(request.content)\n",
    "    if len(json_object) == 0:\n",
    "        request = requests.get(f'https://nominatim.openstreetmap.org/search?country=Italia&city={comune}&format=jsonv2&limit=1')\n",
    "        json_object = json.loads(request.content)\n",
    "    return json_object[0]['lat'], json_object[0]['lon']"
   ]
  },
  {
   "cell_type": "code",
   "execution_count": 11,
   "id": "7e5c0a04",
   "metadata": {},
   "outputs": [
    {
     "data": {
      "text/html": [
       "<div>\n",
       "<style scoped>\n",
       "    .dataframe tbody tr th:only-of-type {\n",
       "        vertical-align: middle;\n",
       "    }\n",
       "\n",
       "    .dataframe tbody tr th {\n",
       "        vertical-align: top;\n",
       "    }\n",
       "\n",
       "    .dataframe thead th {\n",
       "        text-align: right;\n",
       "    }\n",
       "</style>\n",
       "<table border=\"1\" class=\"dataframe\">\n",
       "  <thead>\n",
       "    <tr style=\"text-align: right;\">\n",
       "      <th></th>\n",
       "      <th>Nome</th>\n",
       "      <th>Data</th>\n",
       "      <th>Comune</th>\n",
       "      <th>Sigla</th>\n",
       "      <th>Valore</th>\n",
       "    </tr>\n",
       "  </thead>\n",
       "  <tbody>\n",
       "    <tr>\n",
       "      <th>0</th>\n",
       "      <td>Via Santeramo</td>\n",
       "      <td>2019-01-01 00:00:00.0</td>\n",
       "      <td>Altamura</td>\n",
       "      <td>PM2.5</td>\n",
       "      <td>7</td>\n",
       "    </tr>\n",
       "    <tr>\n",
       "      <th>1</th>\n",
       "      <td>Via Santeramo</td>\n",
       "      <td>2019-01-02 00:00:00.0</td>\n",
       "      <td>Altamura</td>\n",
       "      <td>PM2.5</td>\n",
       "      <td>8</td>\n",
       "    </tr>\n",
       "    <tr>\n",
       "      <th>2</th>\n",
       "      <td>Via Santeramo</td>\n",
       "      <td>2019-01-03 00:00:00.0</td>\n",
       "      <td>Altamura</td>\n",
       "      <td>PM2.5</td>\n",
       "      <td>4</td>\n",
       "    </tr>\n",
       "    <tr>\n",
       "      <th>3</th>\n",
       "      <td>Via Santeramo</td>\n",
       "      <td>2019-01-04 00:00:00.0</td>\n",
       "      <td>Altamura</td>\n",
       "      <td>PM2.5</td>\n",
       "      <td>6</td>\n",
       "    </tr>\n",
       "    <tr>\n",
       "      <th>4</th>\n",
       "      <td>Via Santeramo</td>\n",
       "      <td>2019-01-05 00:00:00.0</td>\n",
       "      <td>Altamura</td>\n",
       "      <td>PM2.5</td>\n",
       "      <td>8</td>\n",
       "    </tr>\n",
       "  </tbody>\n",
       "</table>\n",
       "</div>"
      ],
      "text/plain": [
       "            Nome                   Data    Comune  Sigla Valore\n",
       "0  Via Santeramo  2019-01-01 00:00:00.0  Altamura  PM2.5      7\n",
       "1  Via Santeramo  2019-01-02 00:00:00.0  Altamura  PM2.5      8\n",
       "2  Via Santeramo  2019-01-03 00:00:00.0  Altamura  PM2.5      4\n",
       "3  Via Santeramo  2019-01-04 00:00:00.0  Altamura  PM2.5      6\n",
       "4  Via Santeramo  2019-01-05 00:00:00.0  Altamura  PM2.5      8"
      ]
     },
     "execution_count": 11,
     "metadata": {},
     "output_type": "execute_result"
    }
   ],
   "source": [
    "rilevazioni_pm2_5.head()"
   ]
  },
  {
   "cell_type": "code",
   "execution_count": 12,
   "id": "88713e7d",
   "metadata": {
    "scrolled": true
   },
   "outputs": [],
   "source": [
    "stazioni_pm2_5_comuni_nomi = set(zip(rilevazioni_pm2_5['Nome'].values, rilevazioni_pm2_5['Comune'].values))\n",
    "# Stazioni e rileva PM2.5\n",
    "for s,c in stazioni_pm2_5_comuni_nomi:\n",
    "    comune = c.strip()\n",
    "    if len(comuni[comuni['COMUNE'] == comune]['PRO_COM'].values) != 0:\n",
    "        if stazioni[stazioni['nome'] == s].shape[0] == 0:\n",
    "            id_comune = comuni[comuni['COMUNE'] == comune]['PRO_COM'].values[0]\n",
    "            lat, long = get_lat_long(s, comune)\n",
    "            row = [s, lat, long, id_comune]\n",
    "            stazioni.loc[len(stazioni.index)] = row\n",
    "\n",
    "        row = [s, 'PM2.5']\n",
    "        rileva.loc[len(rileva.index)] = row"
   ]
  },
  {
   "cell_type": "code",
   "execution_count": 13,
   "id": "739db6c3",
   "metadata": {
    "scrolled": true
   },
   "outputs": [],
   "source": [
    "stazioni_pm10_comuni_nomi = set(zip(rilevazioni_pm10['Nome'].values, rilevazioni_pm10['Comune'].values))\n",
    "# Stazioni e rileva PM10\n",
    "for s,c in stazioni_pm10_comuni_nomi:\n",
    "    comune = c.strip()\n",
    "    if len(comuni[comuni['COMUNE'] == comune]['PRO_COM'].values) != 0:\n",
    "        if stazioni[stazioni['nome'] == s].shape[0] == 0:\n",
    "            id_comune = comuni[comuni['COMUNE'] == comune]['PRO_COM'].values[0]\n",
    "            lat, long = get_lat_long(s, comune)\n",
    "            row = [s, lat, long, id_comune]\n",
    "            stazioni.loc[len(stazioni.index)] = row\n",
    "\n",
    "        row = [s, 'PM10']\n",
    "        rileva.loc[len(rileva.index)] = row"
   ]
  },
  {
   "cell_type": "code",
   "execution_count": 14,
   "id": "8682b831",
   "metadata": {},
   "outputs": [
    {
     "data": {
      "text/html": [
       "<div>\n",
       "<style scoped>\n",
       "    .dataframe tbody tr th:only-of-type {\n",
       "        vertical-align: middle;\n",
       "    }\n",
       "\n",
       "    .dataframe tbody tr th {\n",
       "        vertical-align: top;\n",
       "    }\n",
       "\n",
       "    .dataframe thead th {\n",
       "        text-align: right;\n",
       "    }\n",
       "</style>\n",
       "<table border=\"1\" class=\"dataframe\">\n",
       "  <thead>\n",
       "    <tr style=\"text-align: right;\">\n",
       "      <th></th>\n",
       "      <th>nome_stazione</th>\n",
       "      <th>sigla_indicatore</th>\n",
       "    </tr>\n",
       "  </thead>\n",
       "  <tbody>\n",
       "    <tr>\n",
       "      <th>0</th>\n",
       "      <td>I.T.C. La Porta</td>\n",
       "      <td>PM2.5</td>\n",
       "    </tr>\n",
       "    <tr>\n",
       "      <th>1</th>\n",
       "      <td>Mezzo Mobile Via Trani</td>\n",
       "      <td>PM2.5</td>\n",
       "    </tr>\n",
       "    <tr>\n",
       "      <th>2</th>\n",
       "      <td>Casardi</td>\n",
       "      <td>PM2.5</td>\n",
       "    </tr>\n",
       "    <tr>\n",
       "      <th>3</th>\n",
       "      <td>Terminal Passeggeri</td>\n",
       "      <td>PM2.5</td>\n",
       "    </tr>\n",
       "    <tr>\n",
       "      <th>4</th>\n",
       "      <td>I.T.C. De Castro</td>\n",
       "      <td>PM2.5</td>\n",
       "    </tr>\n",
       "  </tbody>\n",
       "</table>\n",
       "</div>"
      ],
      "text/plain": [
       "            nome_stazione sigla_indicatore\n",
       "0         I.T.C. La Porta            PM2.5\n",
       "1  Mezzo Mobile Via Trani            PM2.5\n",
       "2                 Casardi            PM2.5\n",
       "3     Terminal Passeggeri            PM2.5\n",
       "4        I.T.C. De Castro            PM2.5"
      ]
     },
     "execution_count": 14,
     "metadata": {},
     "output_type": "execute_result"
    }
   ],
   "source": [
    "rileva.head()"
   ]
  },
  {
   "cell_type": "code",
   "execution_count": 15,
   "id": "ea3a5b72",
   "metadata": {
    "scrolled": true
   },
   "outputs": [
    {
     "data": {
      "text/html": [
       "<div>\n",
       "<style scoped>\n",
       "    .dataframe tbody tr th:only-of-type {\n",
       "        vertical-align: middle;\n",
       "    }\n",
       "\n",
       "    .dataframe tbody tr th {\n",
       "        vertical-align: top;\n",
       "    }\n",
       "\n",
       "    .dataframe thead th {\n",
       "        text-align: right;\n",
       "    }\n",
       "</style>\n",
       "<table border=\"1\" class=\"dataframe\">\n",
       "  <thead>\n",
       "    <tr style=\"text-align: right;\">\n",
       "      <th></th>\n",
       "      <th>nome</th>\n",
       "      <th>lat</th>\n",
       "      <th>long</th>\n",
       "      <th>id_comune</th>\n",
       "    </tr>\n",
       "  </thead>\n",
       "  <tbody>\n",
       "    <tr>\n",
       "      <th>0</th>\n",
       "      <td>I.T.C. La Porta</td>\n",
       "      <td>40.1742781</td>\n",
       "      <td>18.1678388</td>\n",
       "      <td>75029</td>\n",
       "    </tr>\n",
       "    <tr>\n",
       "      <th>1</th>\n",
       "      <td>Mezzo Mobile Via Trani</td>\n",
       "      <td>41.3214976</td>\n",
       "      <td>16.2868696</td>\n",
       "      <td>110002</td>\n",
       "    </tr>\n",
       "    <tr>\n",
       "      <th>2</th>\n",
       "      <td>Casardi</td>\n",
       "      <td>41.3109177</td>\n",
       "      <td>16.2672775</td>\n",
       "      <td>110002</td>\n",
       "    </tr>\n",
       "    <tr>\n",
       "      <th>3</th>\n",
       "      <td>Terminal Passeggeri</td>\n",
       "      <td>40.6395295</td>\n",
       "      <td>17.945526</td>\n",
       "      <td>74001</td>\n",
       "    </tr>\n",
       "    <tr>\n",
       "      <th>4</th>\n",
       "      <td>I.T.C. De Castro</td>\n",
       "      <td>40.1184626</td>\n",
       "      <td>18.2988529</td>\n",
       "      <td>75039</td>\n",
       "    </tr>\n",
       "  </tbody>\n",
       "</table>\n",
       "</div>"
      ],
      "text/plain": [
       "                     nome         lat        long  id_comune\n",
       "0         I.T.C. La Porta  40.1742781  18.1678388      75029\n",
       "1  Mezzo Mobile Via Trani  41.3214976  16.2868696     110002\n",
       "2                 Casardi  41.3109177  16.2672775     110002\n",
       "3     Terminal Passeggeri  40.6395295   17.945526      74001\n",
       "4        I.T.C. De Castro  40.1184626  18.2988529      75039"
      ]
     },
     "execution_count": 15,
     "metadata": {},
     "output_type": "execute_result"
    }
   ],
   "source": [
    "stazioni.head()"
   ]
  },
  {
   "cell_type": "code",
   "execution_count": 16,
   "id": "ecd73c5c",
   "metadata": {},
   "outputs": [],
   "source": [
    "nomi_stazioni = set(stazioni['nome'])"
   ]
  },
  {
   "cell_type": "code",
   "execution_count": 17,
   "id": "e982528e",
   "metadata": {
    "scrolled": true
   },
   "outputs": [],
   "source": [
    "for i in range(rilevazioni_pm2_5.shape[0]):\n",
    "    nome_stazione = rilevazioni_pm2_5.loc[i, 'Nome']\n",
    "    if nome_stazione in nomi_stazioni:\n",
    "        data = rilevazioni_pm2_5.loc[i, 'Data'][:10]\n",
    "        valore = rilevazioni_pm2_5.loc[i, 'Valore']\n",
    "        sigla_indicatore = rilevazioni_pm2_5.loc[i, 'Sigla']\n",
    "        row = [data, valore, sigla_indicatore, nome_stazione]\n",
    "        rilevazioni.loc[len(rilevazioni.index)] = row"
   ]
  },
  {
   "cell_type": "code",
   "execution_count": 18,
   "id": "d9362779",
   "metadata": {},
   "outputs": [],
   "source": [
    "for i in range(rilevazioni_pm10.shape[0]):\n",
    "    nome_stazione = rilevazioni_pm10.loc[i, 'Nome']\n",
    "    if nome_stazione in nomi_stazioni:\n",
    "        data = rilevazioni_pm10.loc[i, 'Data'][:10]\n",
    "        valore = rilevazioni_pm10.loc[i, 'Valore']\n",
    "        sigla_indicatore = rilevazioni_pm10.loc[i, 'Sigla']\n",
    "        row = [data, valore, sigla_indicatore, nome_stazione]\n",
    "        rilevazioni.loc[len(rilevazioni.index)] = row"
   ]
  },
  {
   "cell_type": "code",
   "execution_count": 19,
   "id": "5f65a076",
   "metadata": {},
   "outputs": [],
   "source": [
    "rilevazioni['valore'] = rilevazioni['valore'].str.replace(',','.')\n",
    "rilevazioni['valore'] = rilevazioni['valore'].astype(float)"
   ]
  },
  {
   "cell_type": "code",
   "execution_count": 20,
   "id": "ac4de316",
   "metadata": {},
   "outputs": [
    {
     "data": {
      "text/html": [
       "<div>\n",
       "<style scoped>\n",
       "    .dataframe tbody tr th:only-of-type {\n",
       "        vertical-align: middle;\n",
       "    }\n",
       "\n",
       "    .dataframe tbody tr th {\n",
       "        vertical-align: top;\n",
       "    }\n",
       "\n",
       "    .dataframe thead th {\n",
       "        text-align: right;\n",
       "    }\n",
       "</style>\n",
       "<table border=\"1\" class=\"dataframe\">\n",
       "  <thead>\n",
       "    <tr style=\"text-align: right;\">\n",
       "      <th></th>\n",
       "      <th>data_rilevazione</th>\n",
       "      <th>valore</th>\n",
       "      <th>sigla_indicatore</th>\n",
       "      <th>nome_stazione</th>\n",
       "    </tr>\n",
       "  </thead>\n",
       "  <tbody>\n",
       "    <tr>\n",
       "      <th>72333</th>\n",
       "      <td>2019-02-19</td>\n",
       "      <td>49.5</td>\n",
       "      <td>PM10</td>\n",
       "      <td>Stazione</td>\n",
       "    </tr>\n",
       "  </tbody>\n",
       "</table>\n",
       "</div>"
      ],
      "text/plain": [
       "      data_rilevazione  valore sigla_indicatore nome_stazione\n",
       "72333       2019-02-19    49.5             PM10      Stazione"
      ]
     },
     "execution_count": 20,
     "metadata": {},
     "output_type": "execute_result"
    }
   ],
   "source": [
    "rilevazioni[rilevazioni['valore'] == 49.5]"
   ]
  },
  {
   "cell_type": "code",
   "execution_count": 21,
   "id": "6ca50b2a",
   "metadata": {
    "scrolled": false
   },
   "outputs": [
    {
     "data": {
      "text/html": [
       "<div>\n",
       "<style scoped>\n",
       "    .dataframe tbody tr th:only-of-type {\n",
       "        vertical-align: middle;\n",
       "    }\n",
       "\n",
       "    .dataframe tbody tr th {\n",
       "        vertical-align: top;\n",
       "    }\n",
       "\n",
       "    .dataframe thead th {\n",
       "        text-align: right;\n",
       "    }\n",
       "</style>\n",
       "<table border=\"1\" class=\"dataframe\">\n",
       "  <thead>\n",
       "    <tr style=\"text-align: right;\">\n",
       "      <th></th>\n",
       "      <th>data_rilevazione</th>\n",
       "      <th>valore</th>\n",
       "      <th>sigla_indicatore</th>\n",
       "      <th>nome_stazione</th>\n",
       "    </tr>\n",
       "  </thead>\n",
       "  <tbody>\n",
       "    <tr>\n",
       "      <th>0</th>\n",
       "      <td>2019-01-01</td>\n",
       "      <td>7.0</td>\n",
       "      <td>PM2.5</td>\n",
       "      <td>Via Santeramo</td>\n",
       "    </tr>\n",
       "    <tr>\n",
       "      <th>1</th>\n",
       "      <td>2019-01-02</td>\n",
       "      <td>8.0</td>\n",
       "      <td>PM2.5</td>\n",
       "      <td>Via Santeramo</td>\n",
       "    </tr>\n",
       "    <tr>\n",
       "      <th>2</th>\n",
       "      <td>2019-01-03</td>\n",
       "      <td>4.0</td>\n",
       "      <td>PM2.5</td>\n",
       "      <td>Via Santeramo</td>\n",
       "    </tr>\n",
       "    <tr>\n",
       "      <th>3</th>\n",
       "      <td>2019-01-04</td>\n",
       "      <td>6.0</td>\n",
       "      <td>PM2.5</td>\n",
       "      <td>Via Santeramo</td>\n",
       "    </tr>\n",
       "    <tr>\n",
       "      <th>4</th>\n",
       "      <td>2019-01-05</td>\n",
       "      <td>8.0</td>\n",
       "      <td>PM2.5</td>\n",
       "      <td>Via Santeramo</td>\n",
       "    </tr>\n",
       "  </tbody>\n",
       "</table>\n",
       "</div>"
      ],
      "text/plain": [
       "  data_rilevazione  valore sigla_indicatore  nome_stazione\n",
       "0       2019-01-01     7.0            PM2.5  Via Santeramo\n",
       "1       2019-01-02     8.0            PM2.5  Via Santeramo\n",
       "2       2019-01-03     4.0            PM2.5  Via Santeramo\n",
       "3       2019-01-04     6.0            PM2.5  Via Santeramo\n",
       "4       2019-01-05     8.0            PM2.5  Via Santeramo"
      ]
     },
     "execution_count": 21,
     "metadata": {},
     "output_type": "execute_result"
    }
   ],
   "source": [
    "rilevazioni.head()"
   ]
  },
  {
   "cell_type": "code",
   "execution_count": 22,
   "id": "e317b3b3",
   "metadata": {},
   "outputs": [],
   "source": [
    "stazioni.to_csv('../dataset/stazioni/stazioni_finale.csv', index=False)\n",
    "rilevazioni.to_csv('../dataset/rilevazioni/rilevazioni_finale.csv', index=False)\n",
    "rileva.to_csv('../dataset/rileva/rileva_finale.csv', index=False)"
   ]
  },
  {
   "cell_type": "code",
   "execution_count": null,
   "id": "3291d035",
   "metadata": {},
   "outputs": [],
   "source": []
  }
 ],
 "metadata": {
  "kernelspec": {
   "display_name": "Python 3 (ipykernel)",
   "language": "python",
   "name": "python3"
  },
  "language_info": {
   "codemirror_mode": {
    "name": "ipython",
    "version": 3
   },
   "file_extension": ".py",
   "mimetype": "text/x-python",
   "name": "python",
   "nbconvert_exporter": "python",
   "pygments_lexer": "ipython3",
   "version": "3.9.13"
  }
 },
 "nbformat": 4,
 "nbformat_minor": 5
}
