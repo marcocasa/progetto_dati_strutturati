{
 "cells": [
  {
   "cell_type": "code",
   "execution_count": 1,
   "id": "dedbaefe",
   "metadata": {},
   "outputs": [],
   "source": [
    "import pandas as pd"
   ]
  },
  {
   "cell_type": "code",
   "execution_count": 2,
   "id": "79b34dae",
   "metadata": {},
   "outputs": [],
   "source": [
    "indicatori = {\n",
    "    'sigla': ['PM2.5', 'PM10'],\n",
    "    'nome': ['Particolato PM2.5', 'Particolato PM10'],\n",
    "    'soglia_media_giornaliera': [10, 20],\n",
    "    'giorni_superamento': [4, 4],\n",
    "    'soglia_media_annuale': [25, 50]\n",
    "}"
   ]
  },
  {
   "cell_type": "code",
   "execution_count": 3,
   "id": "6ce82566",
   "metadata": {},
   "outputs": [],
   "source": [
    "indicatori_df = pd.DataFrame(indicatori)"
   ]
  },
  {
   "cell_type": "code",
   "execution_count": 4,
   "id": "18bc8335",
   "metadata": {},
   "outputs": [
    {
     "data": {
      "text/html": [
       "<div>\n",
       "<style scoped>\n",
       "    .dataframe tbody tr th:only-of-type {\n",
       "        vertical-align: middle;\n",
       "    }\n",
       "\n",
       "    .dataframe tbody tr th {\n",
       "        vertical-align: top;\n",
       "    }\n",
       "\n",
       "    .dataframe thead th {\n",
       "        text-align: right;\n",
       "    }\n",
       "</style>\n",
       "<table border=\"1\" class=\"dataframe\">\n",
       "  <thead>\n",
       "    <tr style=\"text-align: right;\">\n",
       "      <th></th>\n",
       "      <th>sigla</th>\n",
       "      <th>nome</th>\n",
       "      <th>soglia_media_giornaliera</th>\n",
       "      <th>giorni_superamento</th>\n",
       "      <th>soglia_media_annuale</th>\n",
       "    </tr>\n",
       "  </thead>\n",
       "  <tbody>\n",
       "    <tr>\n",
       "      <th>0</th>\n",
       "      <td>PM2.5</td>\n",
       "      <td>Particolato PM2.5</td>\n",
       "      <td>10</td>\n",
       "      <td>4</td>\n",
       "      <td>25</td>\n",
       "    </tr>\n",
       "    <tr>\n",
       "      <th>1</th>\n",
       "      <td>PM10</td>\n",
       "      <td>Particolato PM10</td>\n",
       "      <td>20</td>\n",
       "      <td>4</td>\n",
       "      <td>50</td>\n",
       "    </tr>\n",
       "  </tbody>\n",
       "</table>\n",
       "</div>"
      ],
      "text/plain": [
       "   sigla               nome  soglia_media_giornaliera  giorni_superamento  \\\n",
       "0  PM2.5  Particolato PM2.5                        10                   4   \n",
       "1   PM10   Particolato PM10                        20                   4   \n",
       "\n",
       "   soglia_media_annuale  \n",
       "0                    25  \n",
       "1                    50  "
      ]
     },
     "execution_count": 4,
     "metadata": {},
     "output_type": "execute_result"
    }
   ],
   "source": [
    "indicatori_df.head()"
   ]
  },
  {
   "cell_type": "code",
   "execution_count": 5,
   "id": "31b6077b",
   "metadata": {},
   "outputs": [],
   "source": [
    "indicatori_df.to_csv('..\\dataset\\indicatori\\indicatori_finale.csv', index=False)"
   ]
  },
  {
   "cell_type": "code",
   "execution_count": null,
   "id": "f3086624",
   "metadata": {},
   "outputs": [],
   "source": []
  }
 ],
 "metadata": {
  "kernelspec": {
   "display_name": "Python 3 (ipykernel)",
   "language": "python",
   "name": "python3"
  },
  "language_info": {
   "codemirror_mode": {
    "name": "ipython",
    "version": 3
   },
   "file_extension": ".py",
   "mimetype": "text/x-python",
   "name": "python",
   "nbconvert_exporter": "python",
   "pygments_lexer": "ipython3",
   "version": "3.9.13"
  }
 },
 "nbformat": 4,
 "nbformat_minor": 5
}
