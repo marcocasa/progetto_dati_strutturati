{
 "cells": [
  {
   "cell_type": "code",
   "execution_count": 26,
   "id": "79625576",
   "metadata": {},
   "outputs": [],
   "source": [
    "import pandas as pd\n",
    "import geopandas as gpd"
   ]
  },
  {
   "cell_type": "code",
   "execution_count": 27,
   "id": "8c799eaf",
   "metadata": {},
   "outputs": [],
   "source": [
    "path_popolazioni = f'../dataset/popolazioni/popolazioni.csv'\n",
    "path_comuni = f'../dataset/dati_spaziali/comuni/comuni.shp'"
   ]
  },
  {
   "cell_type": "code",
   "execution_count": 28,
   "id": "e688e3dd",
   "metadata": {},
   "outputs": [],
   "source": [
    "popolazioni = pd.read_csv(path_popolazioni)"
   ]
  },
  {
   "cell_type": "markdown",
   "id": "3d5bca51",
   "metadata": {},
   "source": [
    "Creazione del dataframe con colonne 'id_comune', 'anno', 'numero_maschi', 'numero_femmine'"
   ]
  },
  {
   "cell_type": "code",
   "execution_count": 29,
   "id": "aac2bb51",
   "metadata": {},
   "outputs": [],
   "source": [
    "popolazioni = popolazioni[['ITTER107', 'Sesso', 'TIME', 'Value']]\n",
    "popolazioni_finale = pd.DataFrame(columns = ['id_comune', 'anno', 'numero_maschi', 'numero_femmine'])"
   ]
  },
  {
   "cell_type": "code",
   "execution_count": 30,
   "id": "dc8c21eb",
   "metadata": {},
   "outputs": [],
   "source": [
    "comuni = gpd.read_file(path_comuni)\n",
    "comuni_codici = set(comuni['PRO_COM'])"
   ]
  },
  {
   "cell_type": "code",
   "execution_count": 31,
   "id": "59cd413e",
   "metadata": {},
   "outputs": [],
   "source": [
    "id_comuni = set(popolazioni['ITTER107'])\n",
    "for c in id_comuni:\n",
    "    if c in comuni_codici:\n",
    "        popolazioni_comune = popolazioni[popolazioni['ITTER107'] == c]\n",
    "        anni_comune = set(popolazioni_comune['TIME'])\n",
    "        for a in anni_comune:\n",
    "            num_maschi = popolazioni_comune[(popolazioni_comune['TIME'] == a) & (popolazioni_comune['Sesso'] == 'maschi')]['Value'].values[0]\n",
    "            num_femmine = popolazioni_comune[(popolazioni_comune['TIME'] == a) & (popolazioni_comune['Sesso'] == 'femmine')]['Value'].values[0]\n",
    "            riga = [c, a, num_maschi, num_femmine]\n",
    "            popolazioni_finale.loc[popolazioni_finale.shape[0]] = riga"
   ]
  },
  {
   "cell_type": "code",
   "execution_count": 32,
   "id": "fe28f6de",
   "metadata": {},
   "outputs": [
    {
     "data": {
      "text/html": [
       "<div>\n",
       "<style scoped>\n",
       "    .dataframe tbody tr th:only-of-type {\n",
       "        vertical-align: middle;\n",
       "    }\n",
       "\n",
       "    .dataframe tbody tr th {\n",
       "        vertical-align: top;\n",
       "    }\n",
       "\n",
       "    .dataframe thead th {\n",
       "        text-align: right;\n",
       "    }\n",
       "</style>\n",
       "<table border=\"1\" class=\"dataframe\">\n",
       "  <thead>\n",
       "    <tr style=\"text-align: right;\">\n",
       "      <th></th>\n",
       "      <th>id_comune</th>\n",
       "      <th>anno</th>\n",
       "      <th>numero_maschi</th>\n",
       "      <th>numero_femmine</th>\n",
       "    </tr>\n",
       "  </thead>\n",
       "  <tbody>\n",
       "    <tr>\n",
       "      <th>0</th>\n",
       "      <td>73023</td>\n",
       "      <td>2019</td>\n",
       "      <td>880</td>\n",
       "      <td>917</td>\n",
       "    </tr>\n",
       "    <tr>\n",
       "      <th>1</th>\n",
       "      <td>73023</td>\n",
       "      <td>2020</td>\n",
       "      <td>884</td>\n",
       "      <td>910</td>\n",
       "    </tr>\n",
       "    <tr>\n",
       "      <th>2</th>\n",
       "      <td>75059</td>\n",
       "      <td>2019</td>\n",
       "      <td>4212</td>\n",
       "      <td>4631</td>\n",
       "    </tr>\n",
       "    <tr>\n",
       "      <th>3</th>\n",
       "      <td>75059</td>\n",
       "      <td>2020</td>\n",
       "      <td>4195</td>\n",
       "      <td>4595</td>\n",
       "    </tr>\n",
       "    <tr>\n",
       "      <th>4</th>\n",
       "      <td>73024</td>\n",
       "      <td>2019</td>\n",
       "      <td>7107</td>\n",
       "      <td>7575</td>\n",
       "    </tr>\n",
       "  </tbody>\n",
       "</table>\n",
       "</div>"
      ],
      "text/plain": [
       "   id_comune  anno  numero_maschi  numero_femmine\n",
       "0      73023  2019            880             917\n",
       "1      73023  2020            884             910\n",
       "2      75059  2019           4212            4631\n",
       "3      75059  2020           4195            4595\n",
       "4      73024  2019           7107            7575"
      ]
     },
     "execution_count": 32,
     "metadata": {},
     "output_type": "execute_result"
    }
   ],
   "source": [
    "popolazioni_finale.head()"
   ]
  },
  {
   "cell_type": "code",
   "execution_count": 33,
   "id": "82e6ce24",
   "metadata": {},
   "outputs": [],
   "source": [
    "popolazioni_finale.to_csv('../dataset/popolazioni/popolazioni_finale.csv', index=None)"
   ]
  },
  {
   "cell_type": "code",
   "execution_count": null,
   "id": "e6f986fb",
   "metadata": {},
   "outputs": [],
   "source": []
  }
 ],
 "metadata": {
  "kernelspec": {
   "display_name": "Python 3 (ipykernel)",
   "language": "python",
   "name": "python3"
  },
  "language_info": {
   "codemirror_mode": {
    "name": "ipython",
    "version": 3
   },
   "file_extension": ".py",
   "mimetype": "text/x-python",
   "name": "python",
   "nbconvert_exporter": "python",
   "pygments_lexer": "ipython3",
   "version": "3.9.13"
  }
 },
 "nbformat": 4,
 "nbformat_minor": 5
}
